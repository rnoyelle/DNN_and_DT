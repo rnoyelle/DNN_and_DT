{
 "cells": [
  {
   "cell_type": "code",
   "execution_count": 1,
   "metadata": {},
   "outputs": [],
   "source": [
    "import pandas as pd\n",
    "import numpy as np\n",
    "import os"
   ]
  },
  {
   "cell_type": "code",
   "execution_count": 22,
   "metadata": {},
   "outputs": [],
   "source": [
    "'iris',\n",
    "'Haberman\\x92s Survival',\n",
    "'Car Evaluation',\n",
    "'Titanic',\n",
    "'Breast Cancer Wisconsin',\n",
    "'Pima Indian Diabetes',\n",
    "'GermanCredit Data',\n",
    "'Image Segmentation',\n",
    "'Connect-4',\n",
    "'Poker Hand',\n",
    "'Gime-Me-Some-Credit',\n",
    "'Covertype'\n",
    "\n",
    "\n",
    "df_paper_result = pd.DataFrame(data=[['iris', 100.0, 100.0, 100.0],\n",
    "                                     ['Haberman\\x92s Survival', 70.9, 66.1, 70.9],\n",
    "                                     ['Car Evaluation', 95.1, 96.5, 91.6],\n",
    "                                     ['Titanic', 80.4, 79.0, 76.9],\n",
    "                                     ['Breast Cancer Wisconsin', 94.9, 91.9, 95.6],\n",
    "                                     ['Pima Indian Diabetes', 66.9, 74.7, 64.9],\n",
    "                                     ['Gime-Me-Some-Credit', 98.6, 92.2, 100.0],\n",
    "                                     ['Poker Hand', 50.0, 65.1, 50.0],\n",
    "                                     ['GermanCredit Data', 70.5, 66.5, 70.5],\n",
    "                                     ['Connect-4', 66.9, 77.7, 75.7],\n",
    "                                     ['Image Segmentation', 70.6, 96.1, 48.05],\n",
    "                                     ['Covertype', 49.0, 93.9, 49.0]],\n",
    "                               columns = ['data_name', 'acc_test_DNDT', 'acc_test_DT', 'acc_test_NN'])"
   ]
  },
  {
   "cell_type": "code",
   "execution_count": null,
   "metadata": {},
   "outputs": [],
   "source": [
    "\n"
   ]
  },
  {
   "cell_type": "code",
   "execution_count": null,
   "metadata": {},
   "outputs": [],
   "source": []
  },
  {
   "cell_type": "code",
   "execution_count": 23,
   "metadata": {},
   "outputs": [],
   "source": [
    "df = pd.read_csv('results/perf_tree_DNN.csv', sep='\\t', encoding = \"ISO-8859-1\")"
   ]
  },
  {
   "cell_type": "code",
   "execution_count": 24,
   "metadata": {},
   "outputs": [],
   "source": [
    "df.rename(columns={\"loss_test\":'loss_val', 'acc_test':'acc_val'}, inplace=True)"
   ]
  },
  {
   "cell_type": "code",
   "execution_count": 25,
   "metadata": {},
   "outputs": [
    {
     "data": {
      "text/plain": [
       "Index(['data_name', 'loss_train', 'acc_train', 'loss_val', 'acc_val'], dtype='object')"
      ]
     },
     "execution_count": 25,
     "metadata": {},
     "output_type": "execute_result"
    }
   ],
   "source": [
    "df.columns"
   ]
  },
  {
   "cell_type": "code",
   "execution_count": 26,
   "metadata": {},
   "outputs": [
    {
     "name": "stdout",
     "output_type": "stream",
     "text": [
      "                  data_name  loss_train  acc_train  loss_val   acc_val\n",
      "0                      iris    0.086184   0.960000  0.030963  1.000000\n",
      "1       Habermans Survival    0.499145   0.765854  0.534243  0.752475\n",
      "2            Car Evaluation    0.275027   0.838375  0.292234  0.802102\n",
      "3                   Titanic    0.382704   0.827181  0.385206  0.830508\n",
      "4   Breast Cancer Wisconsin    0.084160   0.973742  0.059193  0.977876\n",
      "5      Pima Indian Diabetes    0.394117   0.811284  0.506249  0.767717\n",
      "6         GermanCredit Data    0.442035   0.798507  0.493976  0.769697\n",
      "7        Image Segmentation    0.138974   0.950000  0.351354  0.871429\n",
      "8                 Connect-4    0.597538   0.750039  0.624793  0.741365\n",
      "9                Poker Hand    0.489943   0.821915  0.514995  0.809305\n",
      "10      Gime-Me-Some-Credit    0.194820   0.934550  0.198127  0.932198\n",
      "11                Covertype    0.302639   0.877499  0.316681  0.871619\n"
     ]
    }
   ],
   "source": [
    "print(df.to_string())"
   ]
  },
  {
   "cell_type": "code",
   "execution_count": 27,
   "metadata": {},
   "outputs": [],
   "source": [
    "# df.to_dict('list')"
   ]
  },
  {
   "cell_type": "code",
   "execution_count": 28,
   "metadata": {},
   "outputs": [],
   "source": [
    "df_tree = pd.read_csv('results/perf_vanilla_tree.csv', sep='\\t', encoding = \"ISO-8859-1\")"
   ]
  },
  {
   "cell_type": "code",
   "execution_count": 29,
   "metadata": {},
   "outputs": [
    {
     "name": "stdout",
     "output_type": "stream",
     "text": [
      "                  data_name  acc_train  acc_test\n",
      "0                      iris   1.000000  0.960000\n",
      "1       Habermans Survival   0.960976  0.603960\n",
      "2            Car Evaluation   0.858254  0.740806\n",
      "3                   Titanic   0.942953  0.783051\n",
      "4   Breast Cancer Wisconsin   1.000000  0.938053\n",
      "5      Pima Indian Diabetes   0.978599  0.696850\n",
      "6       Gime-Me-Some-Credit   0.943510  0.930409\n",
      "7                Poker Hand   0.589401  0.531863\n",
      "8         GermanCredit Data   0.947761  0.693939\n",
      "9                 Connect-4   0.720257  0.708711\n",
      "10       Image Segmentation   1.000000  0.800000\n",
      "11                Covertype   0.783104  0.776555\n"
     ]
    }
   ],
   "source": [
    "print(df_tree.to_string())"
   ]
  },
  {
   "cell_type": "code",
   "execution_count": null,
   "metadata": {},
   "outputs": [],
   "source": []
  },
  {
   "cell_type": "code",
   "execution_count": 30,
   "metadata": {},
   "outputs": [],
   "source": [
    "df2 = pd.merge(df[['data_name', 'loss_train', 'loss_val', 'acc_train', 'acc_val']], \n",
    "               df_tree.rename(columns={'acc_train': 'acc_train_DT', 'acc_test': 'acc_val_DT'}),\n",
    "         on='data_name', how='outer')"
   ]
  },
  {
   "cell_type": "code",
   "execution_count": 31,
   "metadata": {},
   "outputs": [],
   "source": [
    "df2 = pd.merge(df2, df_paper_result,\n",
    "         on='data_name', how='outer')"
   ]
  },
  {
   "cell_type": "code",
   "execution_count": 34,
   "metadata": {},
   "outputs": [],
   "source": [
    "for col in  ['acc_train', 'acc_val', 'acc_train_DT', 'acc_val_DT']:\n",
    "    df2[col] = 100 * df2[col]"
   ]
  },
  {
   "cell_type": "code",
   "execution_count": 33,
   "metadata": {},
   "outputs": [
    {
     "data": {
      "text/plain": [
       "Index(['data_name', 'loss_train', 'loss_val', 'acc_train', 'acc_val',\n",
       "       'acc_train_DT', 'acc_val_DT', 'acc_test_DNDT', 'acc_test_DT',\n",
       "       'acc_test_NN'],\n",
       "      dtype='object')"
      ]
     },
     "execution_count": 33,
     "metadata": {},
     "output_type": "execute_result"
    }
   ],
   "source": [
    "df2.columns"
   ]
  },
  {
   "cell_type": "code",
   "execution_count": 38,
   "metadata": {},
   "outputs": [
    {
     "data": {
      "text/html": [
       "<div>\n",
       "<style scoped>\n",
       "    .dataframe tbody tr th:only-of-type {\n",
       "        vertical-align: middle;\n",
       "    }\n",
       "\n",
       "    .dataframe tbody tr th {\n",
       "        vertical-align: top;\n",
       "    }\n",
       "\n",
       "    .dataframe thead th {\n",
       "        text-align: right;\n",
       "    }\n",
       "</style>\n",
       "<table border=\"1\" class=\"dataframe\">\n",
       "  <thead>\n",
       "    <tr style=\"text-align: right;\">\n",
       "      <th></th>\n",
       "      <th>data_name</th>\n",
       "      <th>loss_train</th>\n",
       "      <th>loss_val</th>\n",
       "      <th>acc_train</th>\n",
       "      <th>acc_val</th>\n",
       "      <th>acc_train_DT</th>\n",
       "      <th>acc_val_DT</th>\n",
       "      <th>acc_test_DNDT</th>\n",
       "      <th>acc_test_DT</th>\n",
       "      <th>acc_test_NN</th>\n",
       "    </tr>\n",
       "  </thead>\n",
       "  <tbody>\n",
       "    <tr>\n",
       "      <th>0</th>\n",
       "      <td>iris</td>\n",
       "      <td>0.086</td>\n",
       "      <td>0.031</td>\n",
       "      <td>96.0</td>\n",
       "      <td>100.0</td>\n",
       "      <td>100.0</td>\n",
       "      <td>96.0</td>\n",
       "      <td>100.0</td>\n",
       "      <td>100.0</td>\n",
       "      <td>100.00</td>\n",
       "    </tr>\n",
       "    <tr>\n",
       "      <th>1</th>\n",
       "      <td>Habermans Survival</td>\n",
       "      <td>0.499</td>\n",
       "      <td>0.534</td>\n",
       "      <td>76.6</td>\n",
       "      <td>75.2</td>\n",
       "      <td>96.1</td>\n",
       "      <td>60.4</td>\n",
       "      <td>70.9</td>\n",
       "      <td>66.1</td>\n",
       "      <td>70.90</td>\n",
       "    </tr>\n",
       "    <tr>\n",
       "      <th>2</th>\n",
       "      <td>Car Evaluation</td>\n",
       "      <td>0.275</td>\n",
       "      <td>0.292</td>\n",
       "      <td>83.8</td>\n",
       "      <td>80.2</td>\n",
       "      <td>85.8</td>\n",
       "      <td>74.1</td>\n",
       "      <td>95.1</td>\n",
       "      <td>96.5</td>\n",
       "      <td>91.60</td>\n",
       "    </tr>\n",
       "    <tr>\n",
       "      <th>3</th>\n",
       "      <td>Titanic</td>\n",
       "      <td>0.383</td>\n",
       "      <td>0.385</td>\n",
       "      <td>82.7</td>\n",
       "      <td>83.1</td>\n",
       "      <td>94.3</td>\n",
       "      <td>78.3</td>\n",
       "      <td>80.4</td>\n",
       "      <td>79.0</td>\n",
       "      <td>76.90</td>\n",
       "    </tr>\n",
       "    <tr>\n",
       "      <th>4</th>\n",
       "      <td>Breast Cancer Wisconsin</td>\n",
       "      <td>0.084</td>\n",
       "      <td>0.059</td>\n",
       "      <td>97.4</td>\n",
       "      <td>97.8</td>\n",
       "      <td>100.0</td>\n",
       "      <td>93.8</td>\n",
       "      <td>94.9</td>\n",
       "      <td>91.9</td>\n",
       "      <td>95.60</td>\n",
       "    </tr>\n",
       "    <tr>\n",
       "      <th>5</th>\n",
       "      <td>Pima Indian Diabetes</td>\n",
       "      <td>0.394</td>\n",
       "      <td>0.506</td>\n",
       "      <td>81.1</td>\n",
       "      <td>76.8</td>\n",
       "      <td>97.9</td>\n",
       "      <td>69.7</td>\n",
       "      <td>66.9</td>\n",
       "      <td>74.7</td>\n",
       "      <td>64.90</td>\n",
       "    </tr>\n",
       "    <tr>\n",
       "      <th>6</th>\n",
       "      <td>GermanCredit Data</td>\n",
       "      <td>0.442</td>\n",
       "      <td>0.494</td>\n",
       "      <td>79.9</td>\n",
       "      <td>77.0</td>\n",
       "      <td>94.8</td>\n",
       "      <td>69.4</td>\n",
       "      <td>70.5</td>\n",
       "      <td>66.5</td>\n",
       "      <td>70.50</td>\n",
       "    </tr>\n",
       "    <tr>\n",
       "      <th>7</th>\n",
       "      <td>Image Segmentation</td>\n",
       "      <td>0.139</td>\n",
       "      <td>0.351</td>\n",
       "      <td>95.0</td>\n",
       "      <td>87.1</td>\n",
       "      <td>100.0</td>\n",
       "      <td>80.0</td>\n",
       "      <td>70.6</td>\n",
       "      <td>96.1</td>\n",
       "      <td>48.05</td>\n",
       "    </tr>\n",
       "    <tr>\n",
       "      <th>8</th>\n",
       "      <td>Connect-4</td>\n",
       "      <td>0.598</td>\n",
       "      <td>0.625</td>\n",
       "      <td>75.0</td>\n",
       "      <td>74.1</td>\n",
       "      <td>72.0</td>\n",
       "      <td>70.9</td>\n",
       "      <td>66.9</td>\n",
       "      <td>77.7</td>\n",
       "      <td>75.70</td>\n",
       "    </tr>\n",
       "    <tr>\n",
       "      <th>9</th>\n",
       "      <td>Poker Hand</td>\n",
       "      <td>0.490</td>\n",
       "      <td>0.515</td>\n",
       "      <td>82.2</td>\n",
       "      <td>80.9</td>\n",
       "      <td>58.9</td>\n",
       "      <td>53.2</td>\n",
       "      <td>50.0</td>\n",
       "      <td>65.1</td>\n",
       "      <td>50.00</td>\n",
       "    </tr>\n",
       "    <tr>\n",
       "      <th>10</th>\n",
       "      <td>Gime-Me-Some-Credit</td>\n",
       "      <td>0.195</td>\n",
       "      <td>0.198</td>\n",
       "      <td>93.5</td>\n",
       "      <td>93.2</td>\n",
       "      <td>94.4</td>\n",
       "      <td>93.0</td>\n",
       "      <td>98.6</td>\n",
       "      <td>92.2</td>\n",
       "      <td>100.00</td>\n",
       "    </tr>\n",
       "    <tr>\n",
       "      <th>11</th>\n",
       "      <td>Covertype</td>\n",
       "      <td>0.303</td>\n",
       "      <td>0.317</td>\n",
       "      <td>87.7</td>\n",
       "      <td>87.2</td>\n",
       "      <td>78.3</td>\n",
       "      <td>77.7</td>\n",
       "      <td>49.0</td>\n",
       "      <td>93.9</td>\n",
       "      <td>49.00</td>\n",
       "    </tr>\n",
       "  </tbody>\n",
       "</table>\n",
       "</div>"
      ],
      "text/plain": [
       "                  data_name  loss_train  loss_val  acc_train  acc_val  \\\n",
       "0                      iris       0.086     0.031       96.0    100.0   \n",
       "1       Habermans Survival       0.499     0.534       76.6     75.2   \n",
       "2            Car Evaluation       0.275     0.292       83.8     80.2   \n",
       "3                   Titanic       0.383     0.385       82.7     83.1   \n",
       "4   Breast Cancer Wisconsin       0.084     0.059       97.4     97.8   \n",
       "5      Pima Indian Diabetes       0.394     0.506       81.1     76.8   \n",
       "6         GermanCredit Data       0.442     0.494       79.9     77.0   \n",
       "7        Image Segmentation       0.139     0.351       95.0     87.1   \n",
       "8                 Connect-4       0.598     0.625       75.0     74.1   \n",
       "9                Poker Hand       0.490     0.515       82.2     80.9   \n",
       "10      Gime-Me-Some-Credit       0.195     0.198       93.5     93.2   \n",
       "11                Covertype       0.303     0.317       87.7     87.2   \n",
       "\n",
       "    acc_train_DT  acc_val_DT  acc_test_DNDT  acc_test_DT  acc_test_NN  \n",
       "0          100.0        96.0          100.0        100.0       100.00  \n",
       "1           96.1        60.4           70.9         66.1        70.90  \n",
       "2           85.8        74.1           95.1         96.5        91.60  \n",
       "3           94.3        78.3           80.4         79.0        76.90  \n",
       "4          100.0        93.8           94.9         91.9        95.60  \n",
       "5           97.9        69.7           66.9         74.7        64.90  \n",
       "6           94.8        69.4           70.5         66.5        70.50  \n",
       "7          100.0        80.0           70.6         96.1        48.05  \n",
       "8           72.0        70.9           66.9         77.7        75.70  \n",
       "9           58.9        53.2           50.0         65.1        50.00  \n",
       "10          94.4        93.0           98.6         92.2       100.00  \n",
       "11          78.3        77.7           49.0         93.9        49.00  "
      ]
     },
     "execution_count": 38,
     "metadata": {},
     "output_type": "execute_result"
    }
   ],
   "source": [
    "df2.round({'loss_train': 3, 'loss_val':3,\n",
    "           'acc_train': 1, 'acc_val': 1, 'acc_train_DT': 1, 'acc_val_DT': 1})"
   ]
  },
  {
   "cell_type": "code",
   "execution_count": null,
   "metadata": {},
   "outputs": [],
   "source": []
  },
  {
   "cell_type": "code",
   "execution_count": null,
   "metadata": {},
   "outputs": [],
   "source": []
  }
 ],
 "metadata": {
  "kernelspec": {
   "display_name": "Python 3",
   "language": "python",
   "name": "python3"
  },
  "language_info": {
   "codemirror_mode": {
    "name": "ipython",
    "version": 3
   },
   "file_extension": ".py",
   "mimetype": "text/x-python",
   "name": "python",
   "nbconvert_exporter": "python",
   "pygments_lexer": "ipython3",
   "version": "3.7.4"
  }
 },
 "nbformat": 4,
 "nbformat_minor": 4
}
